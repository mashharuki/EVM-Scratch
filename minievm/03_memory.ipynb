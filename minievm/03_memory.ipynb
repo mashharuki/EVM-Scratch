{
 "cells": [
  {
   "cell_type": "code",
   "execution_count": 5,
   "metadata": {},
   "outputs": [],
   "source": [
    "# SimpleMemory クラス\n",
    "class SimpleMemory:\n",
    "    def __init__(self): self.memory = []\n",
    "        \n",
    "    def access(self, offset, size): return self.memory[offset:offset+size]\n",
    "    def load  (self, offset):       return self.access(offset, 32)\n",
    "    def store (self, offset, value): self.memory[offset:offset+len(value)] = value"
   ]
  },
  {
   "cell_type": "code",
   "execution_count": 7,
   "metadata": {},
   "outputs": [],
   "source": [
    "# Memoryクラス\n",
    "class Memory(SimpleMemory):\n",
    "    def store(self, offset, value):\n",
    "        memory_expansion_cost = 0\n",
    "        \n",
    "        if len(self.memory) <= offset + len(value):\n",
    "            \n",
    "            expansion_size = 0\n",
    "            \n",
    "            # initialize memory with 32 zeros if it is empty\n",
    "            if len(self.memory) == 0:\n",
    "                expansion_size = 32\n",
    "                self.memory = [0x00 for _ in range(32)]\n",
    "                \n",
    "            # extend memory more if needed\n",
    "            if len(self.memory) < offset + len(value):\n",
    "                expansion_size += offset + len(value) - len(self.memory)\n",
    "                self.memory.extend([0x00] * expansion_size)\n",
    "                \n",
    "            memory_expansion_cost = expansion_size**2 # simplified!\n",
    "                \n",
    "        super().store(offset, value)\n",
    "        return memory_expansion_cost\n",
    "\n",
    "    def calc_memory_expansion_gas(memory_byte_size):\n",
    "        memory_size_word = (memory_byte_size + 31) / 32\n",
    "        memory_cost = (memory_size_word ** 2) / 512 + (3 * memory_size_word)\n",
    "        print(round(memory_cost))\n",
    "        return round(memory_cost)"
   ]
  },
  {
   "cell_type": "code",
   "execution_count": 10,
   "metadata": {},
   "outputs": [
    {
     "data": {
      "text/plain": [
       "[1,\n",
       " 2,\n",
       " 3,\n",
       " 4,\n",
       " 0,\n",
       " 0,\n",
       " 0,\n",
       " 0,\n",
       " 0,\n",
       " 0,\n",
       " 0,\n",
       " 0,\n",
       " 0,\n",
       " 0,\n",
       " 0,\n",
       " 0,\n",
       " 0,\n",
       " 0,\n",
       " 0,\n",
       " 0,\n",
       " 0,\n",
       " 0,\n",
       " 0,\n",
       " 0,\n",
       " 0,\n",
       " 0,\n",
       " 0,\n",
       " 0,\n",
       " 0,\n",
       " 0,\n",
       " 0,\n",
       " 0]"
      ]
     },
     "execution_count": 10,
     "metadata": {},
     "output_type": "execute_result"
    }
   ],
   "source": [
    "# Memoryクラスを作成\n",
    "memory = Memory()\n",
    "# 4つ保管\n",
    "memory.store(0, [0x01, 0x02, 0x03, 0x04]);\n",
    "memory.load(0)\n",
    "# ガス代を算出する。\n",
    "# memory.calc_memory_expansion_gas(32)"
   ]
  }
 ],
 "metadata": {
  "kernelspec": {
   "display_name": "myenv",
   "language": "python",
   "name": "python3"
  },
  "language_info": {
   "codemirror_mode": {
    "name": "ipython",
    "version": 3
   },
   "file_extension": ".py",
   "mimetype": "text/x-python",
   "name": "python",
   "nbconvert_exporter": "python",
   "pygments_lexer": "ipython3",
   "version": "3.12.6"
  }
 },
 "nbformat": 4,
 "nbformat_minor": 2
}
