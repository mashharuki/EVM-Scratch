{
 "cells": [
  {
   "cell_type": "code",
   "execution_count": 1,
   "metadata": {},
   "outputs": [],
   "source": [
    "MAXIMUM_STACK_SIZE = 1024"
   ]
  },
  {
   "cell_type": "code",
   "execution_count": 2,
   "metadata": {},
   "outputs": [],
   "source": [
    "class Stack:\n",
    "    def __init__(self): self.items = []\n",
    "    def __str__ (self): \n",
    "        ws = []\n",
    "        for i, item in enumerate(self.items[::-1]):\n",
    "            if   i == 0                : ws.append(f\"{item} <first\")\n",
    "            elif i == len(self.items)-1: ws.append(f\"{item} <last\") \n",
    "            else                       : ws.append(str(item))\n",
    "        return \"\\n\".join(ws)\n",
    "        \n",
    "    def push(self, value): \n",
    "        if len(self.items) == MAXIMUM_STACK_SIZE-1: raise Exception(\"Stack overflow\")\n",
    "        self.items.append(value)    \n",
    "    \n",
    "    def pop(self, n=-1):\n",
    "        if len(self.items) < n: raise Exception(\"Stack overflow\")\n",
    "        del self.items[n]"
   ]
  },
  {
   "cell_type": "code",
   "execution_count": 3,
   "metadata": {},
   "outputs": [
    {
     "name": "stdout",
     "output_type": "stream",
     "text": [
      "1 <first\n",
      "4\n",
      "2 <last\n"
     ]
    }
   ],
   "source": [
    "# Stackクラスを作成\n",
    "stack = Stack()\n",
    "\n",
    "# スタックにプッシュ\n",
    "stack.push(2)\n",
    "stack.push(4)\n",
    "stack.push(1)\n",
    "\n",
    "print(stack)"
   ]
  },
  {
   "cell_type": "code",
   "execution_count": 4,
   "metadata": {},
   "outputs": [
    {
     "name": "stdout",
     "output_type": "stream",
     "text": [
      "4 <first\n",
      "2 <last\n"
     ]
    }
   ],
   "source": [
    "stack.pop()\n",
    "print(stack)"
   ]
  }
 ],
 "metadata": {
  "kernelspec": {
   "display_name": "myenv",
   "language": "python",
   "name": "python3"
  },
  "language_info": {
   "codemirror_mode": {
    "name": "ipython",
    "version": 3
   },
   "file_extension": ".py",
   "mimetype": "text/x-python",
   "name": "python",
   "nbconvert_exporter": "python",
   "pygments_lexer": "ipython3",
   "version": "3.12.6"
  }
 },
 "nbformat": 4,
 "nbformat_minor": 2
}
